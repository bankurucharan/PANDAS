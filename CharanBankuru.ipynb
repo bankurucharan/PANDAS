{
  "nbformat": 4,
  "nbformat_minor": 0,
  "metadata": {
    "colab": {
      "provenance": [],
      "authorship_tag": "ABX9TyOuJnzJwycoslnCuSqM/Kf3",
      "include_colab_link": true
    },
    "kernelspec": {
      "name": "python3",
      "display_name": "Python 3"
    },
    "language_info": {
      "name": "python"
    }
  },
  "cells": [
    {
      "cell_type": "markdown",
      "metadata": {
        "id": "view-in-github",
        "colab_type": "text"
      },
      "source": [
        "<a href=\"https://colab.research.google.com/github/bankurucharan/PANDAS/blob/main/CharanBankuru.ipynb\" target=\"_parent\"><img src=\"https://colab.research.google.com/assets/colab-badge.svg\" alt=\"Open In Colab\"/></a>"
      ]
    },
    {
      "cell_type": "markdown",
      "source": [
        "**Pandas** is a powerful and flexible open-source data analysis and manipulation library for Python. It provides data structures and functions with data stuctures.\n",
        "\n",
        "data structures in Pandas are:\n",
        "\n",
        "Series: A one-dimensional labeled array capable of holding any data type . It's similar to a column in a spreadsheet or a SQL table.\n",
        "\n",
        "DataFrame: A two-dimensional labeled data structure with columns of potentially different data types. It is analogous to a spreadsheet or SQL table and is the most commonly used structure in Pandas for data analysis.\n",
        "\n",
        "**Getting Familiar with Pandas:-**\n",
        "\n",
        "Start by installing Pandas if you haven't already:"
      ],
      "metadata": {
        "id": "ZL2X0Bf_B7Bv"
      }
    },
    {
      "cell_type": "code",
      "execution_count": null,
      "metadata": {
        "id": "Giq3_IsbBf_S"
      },
      "outputs": [],
      "source": [
        "pip install pandas"
      ]
    },
    {
      "cell_type": "markdown",
      "source": [
        "**Importing Pandas:-**\n",
        "\n",
        "To use Pandas in your Python script, you need to import it. It's use as \"pd\":"
      ],
      "metadata": {
        "id": "fhz1hA4sD0BJ"
      }
    },
    {
      "cell_type": "code",
      "source": [
        "import pandas as pd"
      ],
      "metadata": {
        "id": "wag9ubRnDyf9"
      },
      "execution_count": null,
      "outputs": []
    },
    {
      "cell_type": "markdown",
      "source": [
        "**Creation:-**\n",
        "\n",
        "Import Pandas: import pandas as pd\n",
        "Create a Series: Use pd.Series(data, index=...)\n",
        "Create a DataFrame: Use pd.DataFrame(data_dict) or pd.DataFrame(data_lists, columns=...)\n",
        "Read from CSV: Use pd.read_csv('file_path.csv')\n"
      ],
      "metadata": {
        "id": "iY9K9TomEmZQ"
      }
    },
    {
      "cell_type": "code",
      "source": [
        "import pandas as pd\n",
        "# Creating a Series\n",
        "data_series = pd.Series([10, 20, 30, 40, 50])\n",
        "print(\"Series:\")\n",
        "print(data_series)\n",
        "# Creating a DataFrame\n",
        "data_dict = {\n",
        "    'Name': ['A', 'B', 'C', 'D'],\n",
        "    'Age': [24, 27, 22, 32],\n",
        "    'City': ['Mumbai', 'Chennai', 'Vizag', 'Delhi']\n",
        "}\n",
        "data_frame = pd.DataFrame(data_dict)\n",
        "print(\"\\nDataFrame:\")\n",
        "print(data_frame)"
      ],
      "metadata": {
        "colab": {
          "base_uri": "https://localhost:8080/"
        },
        "id": "WXGdN22GElUU",
        "outputId": "5bc73323-0f13-49d0-d118-97f39533672c"
      },
      "execution_count": 2,
      "outputs": [
        {
          "output_type": "stream",
          "name": "stdout",
          "text": [
            "Series:\n",
            "0    10\n",
            "1    20\n",
            "2    30\n",
            "3    40\n",
            "4    50\n",
            "dtype: int64\n",
            "\n",
            "DataFrame:\n",
            "  Name  Age     City\n",
            "0    A   24   Mumbai\n",
            "1    B   27  Chennai\n",
            "2    C   22    Vizag\n",
            "3    D   32    Delhi\n"
          ]
        }
      ]
    },
    {
      "cell_type": "markdown",
      "source": [
        "***Data Handling with Pandas:-***\n",
        "\n",
        "Create a DataFrame: Simulates data that might be read from a CSV file.\n",
        "\n",
        "Handle Missing Data:\n",
        "\n",
        "Filling Missing Values: Uses fillna() to replace missing values. For the Name column, missing values are replaced with 'Unknown', and for Age, missing values are replaced with the mean age.\n",
        "Dropping Missing Values: Uses dropna() to remove any rows with missing values.\n",
        "Data Type Conversion:\n",
        "\n",
        "Convert Age to Integer: Changes the data type of the Age column to integer using astype().\n",
        "Removing Duplicates:\n",
        "\n",
        "Remove Duplicate Rows: Uses drop_duplicates() to remove any duplicate rows in the DataFrame.\n",
        "\n",
        "Create a DataFrame: Simulates data that might be read from a CSV file.\n",
        "\n",
        "Handle Missing Data:\n",
        "\n",
        "Filling Missing Values: Uses fillna() to replace missing values. For the Name column, missing values are replaced with 'Unknown', and for Age, missing values are replaced with the mean age.\n",
        "Dropping Missing Values: Uses dropna() to remove any rows with missing values.\n",
        "Data Type Conversion:\n",
        "\n",
        "Convert Age to Integer: Changes the data type of the Age column to integer using astype().\n",
        "Removing Duplicates:\n",
        "\n",
        "Remove Duplicate Rows: Uses drop_duplicates() to remove any duplicate rows in the DataFrame."
      ],
      "metadata": {
        "id": "bMvoJ2EZF6VB"
      }
    },
    {
      "cell_type": "code",
      "source": [
        "import pandas as pd\n",
        "data = {\n",
        "    'Name': ['A', 'B', 'C', None, 'E', 'F'],\n",
        "    'Age': [24, 27, None, 22, 32, 28],\n",
        "    'City': ['New York', 'Los Angeles', 'Chicago', 'Houston', 'New York', 'Chicago']\n",
        "}\n",
        "df = pd.DataFrame(data)\n",
        "print(\"Original DataFrame:\")\n",
        "print(df)\n",
        "df_filled = df.fillna({'Name': 'Unknown', 'Age': df['Age'].mean()})\n",
        "print(\"\\nDataFrame after filling missing values:\")\n",
        "print(df_filled)\n",
        "# Drop rows with missing values\n",
        "df_dropped = df.dropna()\n",
        "print(\"\\nDataFrame after dropping rows with missing values:\")\n",
        "print(df_dropped)\n",
        "df_filled['Age'] = df_filled['Age'].astype(int)\n",
        "print(\"\\nDataFrame after converting 'Age' to integer:\")\n",
        "print(df_filled)"
      ],
      "metadata": {
        "colab": {
          "base_uri": "https://localhost:8080/"
        },
        "id": "5sSHlJHsF5pN",
        "outputId": "2c64fc46-8e1f-49e3-92df-571105cc7e23"
      },
      "execution_count": 4,
      "outputs": [
        {
          "output_type": "stream",
          "name": "stdout",
          "text": [
            "Original DataFrame:\n",
            "   Name   Age         City\n",
            "0     A  24.0     New York\n",
            "1     B  27.0  Los Angeles\n",
            "2     C   NaN      Chicago\n",
            "3  None  22.0      Houston\n",
            "4     E  32.0     New York\n",
            "5     F  28.0      Chicago\n",
            "\n",
            "DataFrame after filling missing values:\n",
            "      Name   Age         City\n",
            "0        A  24.0     New York\n",
            "1        B  27.0  Los Angeles\n",
            "2        C  26.6      Chicago\n",
            "3  Unknown  22.0      Houston\n",
            "4        E  32.0     New York\n",
            "5        F  28.0      Chicago\n",
            "\n",
            "DataFrame after dropping rows with missing values:\n",
            "  Name   Age         City\n",
            "0    A  24.0     New York\n",
            "1    B  27.0  Los Angeles\n",
            "4    E  32.0     New York\n",
            "5    F  28.0      Chicago\n",
            "\n",
            "DataFrame after converting 'Age' to integer:\n",
            "      Name  Age         City\n",
            "0        A   24     New York\n",
            "1        B   27  Los Angeles\n",
            "2        C   26      Chicago\n",
            "3  Unknown   22      Houston\n",
            "4        E   32     New York\n",
            "5        F   28      Chicago\n"
          ]
        }
      ]
    },
    {
      "cell_type": "markdown",
      "source": [
        "***Data Analysis with Pandas:-***\n",
        "\n",
        "Generating Summary Statistics:\n",
        "\n",
        "describe(): Provides summary statistics like count, mean, std deviation, min, max, and percentiles for numerical data. include='all' includes statistics for non-numeric data as well.\n",
        "\n",
        "Grouping Data and Applying Aggregate Functions:\n",
        "\n",
        "groupby(): Groups data based on a column. Aggregations (like mean) are then applied to the grouped data.\n",
        "\n",
        "Joining DataFrames:\n",
        "\n",
        "join(): Combines DataFrames based on their index.\n",
        "Concatenating DataFrames:\n",
        "\n",
        "concat(): Combines DataFrames either vertically (axis=0) or horizontally (axis=1)."
      ],
      "metadata": {
        "id": "54YzvRmdHpHK"
      }
    },
    {
      "cell_type": "code",
      "source": [
        "import pandas as pd\n",
        "data1 = {\n",
        "    'Name': ['Alice', 'Bob', 'Charlie', 'David'],\n",
        "    'Age': [24, 27, 22, 32],\n",
        "    'City': ['New York', 'Los Angeles', 'Chicago', 'Houston']\n",
        "}\n",
        "data2 = {\n",
        "    'Name': ['Alice', 'Bob', 'Charlie', 'David'],\n",
        "    'Score': [85, 90, 78, 88],\n",
        "    'Date': ['2024-01-15', '2024-01-16', '2024-01-17', '2024-01-18']\n",
        "}\n",
        "df1 = pd.DataFrame(data1)\n",
        "df2 = pd.DataFrame(data2)\n",
        "print(\"DataFrame 1:\")\n",
        "print(df1)\n",
        "print(\"\\nDataFrame 2:\")\n",
        "print(df2)\n",
        "#  Grouping Data and Applying Aggregate Functions\n",
        "# Adding some additional data for grouping\n",
        "data3 = {\n",
        "    'City': ['New York', 'Los Angeles', 'Chicago', 'Houston', 'New York', 'Chicago'],\n",
        "    'Population': [8500000, 4000000, 2700000, 2300000, 8500000, 2700000]\n",
        "}\n",
        "df3 = pd.DataFrame(data3)\n",
        "print(\"\\nDataFrame for Grouping:\")\n",
        "print(df3)\n",
        "grouped = df3.groupby('City')['Population'].mean()\n",
        "print(\"\\nAverage Population by City:\")\n",
        "print(grouped)\n",
        "#  Joining DataFrames\n",
        "df1.set_index('Name', inplace=True)\n",
        "df2.set_index('Name', inplace=True)\n",
        "# Join df1 and df2 on the index\n",
        "joined_df = df1.join(df2)\n",
        "print(\"\\nJoined DataFrame on index:\")\n",
        "print(joined_df)\n",
        "# 5. Concatenating DataFrames\n",
        "concat_df = pd.concat([df1, df2], axis=0)\n",
        "print(\"\\nConcatenated DataFrame (vertically):\")\n",
        "print(concat_df)\n",
        "# Reset index for demonstration of concatenation results\n",
        "df1.reset_index(inplace=True)\n",
        "df2.reset_index(inplace=True)\n",
        "# Concatenate DataFrames with different columns\n",
        "df4 = pd.DataFrame({'Name': ['Eve'], 'Age': [29], 'City': ['San Francisco']})\n",
        "df5 = pd.DataFrame({'Name': ['Frank'], 'Score': [85], 'Date': ['2024-01-19']})\n",
        "concat_df_diff = pd.concat([df4, df5], axis=1)\n",
        "print(\"\\nConcatenated DataFrames with different columns:\")\n",
        "print(concat_df_diff)"
      ],
      "metadata": {
        "colab": {
          "base_uri": "https://localhost:8080/"
        },
        "id": "ZSanDlovHoiA",
        "outputId": "116d646b-91df-405a-c046-88923f759948"
      },
      "execution_count": 5,
      "outputs": [
        {
          "output_type": "stream",
          "name": "stdout",
          "text": [
            "DataFrame 1:\n",
            "      Name  Age         City\n",
            "0    Alice   24     New York\n",
            "1      Bob   27  Los Angeles\n",
            "2  Charlie   22      Chicago\n",
            "3    David   32      Houston\n",
            "\n",
            "DataFrame 2:\n",
            "      Name  Score        Date\n",
            "0    Alice     85  2024-01-15\n",
            "1      Bob     90  2024-01-16\n",
            "2  Charlie     78  2024-01-17\n",
            "3    David     88  2024-01-18\n",
            "\n",
            "DataFrame for Grouping:\n",
            "          City  Population\n",
            "0     New York     8500000\n",
            "1  Los Angeles     4000000\n",
            "2      Chicago     2700000\n",
            "3      Houston     2300000\n",
            "4     New York     8500000\n",
            "5      Chicago     2700000\n",
            "\n",
            "Average Population by City:\n",
            "City\n",
            "Chicago        2700000.0\n",
            "Houston        2300000.0\n",
            "Los Angeles    4000000.0\n",
            "New York       8500000.0\n",
            "Name: Population, dtype: float64\n",
            "\n",
            "Joined DataFrame on index:\n",
            "         Age         City  Score        Date\n",
            "Name                                        \n",
            "Alice     24     New York     85  2024-01-15\n",
            "Bob       27  Los Angeles     90  2024-01-16\n",
            "Charlie   22      Chicago     78  2024-01-17\n",
            "David     32      Houston     88  2024-01-18\n",
            "\n",
            "Concatenated DataFrame (vertically):\n",
            "          Age         City  Score        Date\n",
            "Name                                         \n",
            "Alice    24.0     New York    NaN         NaN\n",
            "Bob      27.0  Los Angeles    NaN         NaN\n",
            "Charlie  22.0      Chicago    NaN         NaN\n",
            "David    32.0      Houston    NaN         NaN\n",
            "Alice     NaN          NaN   85.0  2024-01-15\n",
            "Bob       NaN          NaN   90.0  2024-01-16\n",
            "Charlie   NaN          NaN   78.0  2024-01-17\n",
            "David     NaN          NaN   88.0  2024-01-18\n",
            "\n",
            "Concatenated DataFrames with different columns:\n",
            "  Name  Age           City   Name  Score        Date\n",
            "0  Eve   29  San Francisco  Frank     85  2024-01-19\n"
          ]
        }
      ]
    },
    {
      "cell_type": "markdown",
      "source": [
        "***Application of Pandas in Data Science:-***\n",
        "\n",
        "Pandas is a cornerstone of data science due to its powerful and flexible data manipulation and analysis capabilities\n",
        "\n",
        "**Advantages of Using Pandas:-**\n",
        "Efficiency and Performance:\n",
        "\n",
        "Optimized Data Structures: Pandas’ DataFrame and Series are optimized for performance, allowing for efficient data manipulation and analysis. Operations on these structures are much faster than using traditional Python lists or dictionaries.\n",
        "Convenient Data Handling:\n",
        "\n",
        "Flexible Data Import: Pandas can read from and write to various formats like CSV, Excel, SQL databases, JSON, and more, making data import and export straightforward.\n",
        "\n",
        "Handling Missing Data: Functions such as fillna(), dropna(), and interpolate() provide robust methods for dealing with missing data, which is crucial for preparing clean datasets for analysis.\n",
        "\n",
        "**Real-World Examples Where Pandas is Essential**:-\n",
        "\n",
        "Data Cleaning:\n",
        "\n",
        "Example: In financial analysis, before analyzing stock price data, you often need to clean the dataset by removing invalid entries, handling missing values, and ensuring the data is in the correct format. Pandas provides efficient methods for performing these tasks, such as dropna(), fillna(), and astype().\n",
        "Exploratory Data Analysis (EDA):\n",
        "\n",
        "Example: In a data science project analyzing customer behavior, EDA is crucial to understand trends, patterns, and correlations. Pandas enables this through summary statistics (describe()), grouping (groupby()), and visualizations with libraries like Matplotlib or Seaborn.\n",
        "Data Transformation and Aggregation:\n",
        "\n",
        "Example: In a marketing analysis, you may need to aggregate sales data by different regions or time periods to understand performance. Pandas allows you to perform these operations efficiently using groupby(), pivot_table(), and merge().\n",
        "\n",
        "**Conclusion:-**\n",
        "\n",
        "Pandas is an indispensable tool for data science due to its efficiency, convenience, and extensive capabilities for data manipulation and analysis. It simplifies tasks that would otherwise be cumbersome with traditional Python data structures, such as handling large datasets, performing complex transformations, and conducting detailed analyses\n"
      ],
      "metadata": {
        "id": "KL4k69cVJjwp"
      }
    },
    {
      "cell_type": "code",
      "source": [],
      "metadata": {
        "id": "f8rxj_M-JKvJ"
      },
      "execution_count": null,
      "outputs": []
    }
  ]
}